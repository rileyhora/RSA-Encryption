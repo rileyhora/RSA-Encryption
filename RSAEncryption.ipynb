{
 "cells": [
  {
   "attachments": {},
   "cell_type": "markdown",
   "metadata": {},
   "source": [
    "## RSA Encryption"
   ]
  },
  {
   "attachments": {},
   "cell_type": "markdown",
   "metadata": {},
   "source": [
    "<hr />\n",
    "\n",
    "# Table of Contents\n",
    "\n",
    "### 1. Introduction\n",
    "\n",
    "### 2. RSA Tool Sets\n",
    "##### &nbsp;&nbsp;&nbsp;&nbsp;&nbsp;&nbsp; 2.1 First Tool Set\n",
    "##### &nbsp;&nbsp;&nbsp;&nbsp;&nbsp;&nbsp; 2.2 Second Tool Set\n",
    "##### &nbsp;&nbsp;&nbsp;&nbsp;&nbsp;&nbsp; 2.3 Encode and Decode\n",
    "##### &nbsp;&nbsp;&nbsp;&nbsp;&nbsp;&nbsp; 2.4 Code Break Tool Set\n",
    "\n",
    "### 3. Demonstrations\n",
    "##### &nbsp;&nbsp;&nbsp;&nbsp;&nbsp;&nbsp; 3.1 Demo of Encoding and Decoding Messages\n",
    "##### &nbsp;&nbsp;&nbsp;&nbsp;&nbsp;&nbsp; 3.2 Demo of Breaking Messages\n"
   ]
  },
  {
   "attachments": {},
   "cell_type": "markdown",
   "metadata": {},
   "source": [
    "<hr />\n",
    "\n",
    "### 1. Introduction"
   ]
  },
  {
   "attachments": {},
   "cell_type": "markdown",
   "metadata": {},
   "source": [
    "I created this RSA project to explore my interests in networking and security. I built up basic tool sets and used them in demonstrations for encoding, decoding and breaking code.\n",
    "\n",
    "Reading \"Debugging Zen\" by Ben Ramsey partially inspired me to start this project. The article helped me focus on my mental state while coding, to allow work to flow with lower friction. This reminded me of my climbing flow state, where I'm fully focused on the task at hand, working with my abilities. \n",
    "\n",
    "I felt an expansion of my zen or flow state as I applied myself. My code worked when I was working from a more calm and curious state of mind. This was a rewarding coding project because it helped me solidify modulus arithmetic in a practical application."
   ]
  },
  {
   "attachments": {},
   "cell_type": "markdown",
   "metadata": {},
   "source": [
    "<hr />\n",
    "\n",
    "### 2. RSA Tool Sets\n",
    "#### 2.1 First Tool Set\n",
    "The functions below convert to text, convert to numbers, b^n mod m with fast modular exponentiation, calculate the greatest common divisor of a and b, Bézout's identity with extended euclidean algorithm, generate prime numbers through brute force and Eratosthenes algorithm and select two random prime numbers which fit criteria for encryption."
   ]
  },
  {
   "cell_type": "code",
   "execution_count": 145,
   "metadata": {},
   "outputs": [],
   "source": [
    "def Convert_Text(_string):\n",
    "    \"\"\"\n",
    "    take in a simple string such as \"hello\" and outputs the corresponding\n",
    "    standard list of integers (ascii) for each letter in the word hello\n",
    "    \n",
    "    For example:\n",
    "    _string = hello\n",
    "    integer_list = [104, 101, 108, 108, 111]\n",
    "    \"\"\"\n",
    "\n",
    "    # each function starts with initializations\n",
    "    integer_list = []\n",
    "    \n",
    "    # iterates through the string passed into Convert_Text function.\n",
    "    # ord() converts character to unicode\n",
    "    for char in _string:\n",
    "        integer_list.append(ord(char))\n",
    "        \n",
    "    # each function ends with returning a value or set of values   \n",
    "    return integer_list"
   ]
  },
  {
   "cell_type": "code",
   "execution_count": 146,
   "metadata": {},
   "outputs": [],
   "source": [
    "def Convert_Num(_list):\n",
    "    \"\"\"\n",
    "    take in a list of integers\n",
    "    and outputs the corresponding string (ascii)\n",
    "    \n",
    "    For example:\n",
    "    _list = [104, 101, 108, 108, 111]\n",
    "    _string = hello\n",
    "    \"\"\"\n",
    "    \n",
    "    _string = ''\n",
    "    \n",
    "    # iterates through the numbers passed into Convert_Num\n",
    "    # chr() converts unicode to character\n",
    "    for num in _list:\n",
    "        _string += chr(num)\n",
    "        \n",
    "        \n",
    "    return _string"
   ]
  },
  {
   "cell_type": "code",
   "execution_count": 147,
   "metadata": {},
   "outputs": [],
   "source": [
    "def Convert_Binary_String(_int):\n",
    "    \"\"\"\n",
    "    convert an integer to a string of its binary expansion\n",
    "    \n",
    "    For example:\n",
    "    _int = 345\n",
    "    bits = 101011001\n",
    "    \"\"\"\n",
    "    bits = []\n",
    "    \n",
    "    # steps through base 10 and converts to base 2\n",
    "    while(_int > 0):\n",
    "        k = _int % 2\n",
    "        bits.insert(0, k)\n",
    "        _int = _int // 2\n",
    "        \n",
    "        \n",
    "    return bits"
   ]
  },
  {
   "cell_type": "code",
   "execution_count": 148,
   "metadata": {},
   "outputs": [],
   "source": [
    "def FME(num, d, n):\n",
    "    \"\"\"\n",
    "    Using the fast modular exponentiation,\n",
    "    return num^d mod n\n",
    "    square-and-multiply algorithm\n",
    "    \"\"\"\n",
    "    \n",
    "    result = 1\n",
    "    square = num\n",
    "    \n",
    "    while d > 0: \n",
    "        #converts to binary\n",
    "        #if the result equal to one, then multiply result and square\n",
    "        if d%2 == 1:\n",
    "            result = (result * square) % n\n",
    "            d -= 1\n",
    "            \n",
    "        #or else the square is multiplied by itself rather than result\n",
    "        square = (square * square) % n\n",
    "        \n",
    "        #divide by 2 for each iteration, to step in down in base two conversion\n",
    "        #and also for the program to exit the loop\n",
    "        d = d // 2\n",
    "        \n",
    "        \n",
    "    return result"
   ]
  },
  {
   "cell_type": "code",
   "execution_count": 149,
   "metadata": {},
   "outputs": [],
   "source": [
    "def NOT_FME(b, n, m):\n",
    "    \"\"\"\n",
    "    very slow for large numbers\n",
    "    return num^d mod n\n",
    "    \"\"\"\n",
    "    result = b**n % m\n",
    "\n",
    "    return result"
   ]
  },
  {
   "attachments": {},
   "cell_type": "markdown",
   "metadata": {},
   "source": [
    "Why Fast Modular Exponentiation"
   ]
  },
  {
   "attachments": {},
   "cell_type": "markdown",
   "metadata": {},
   "source": [
    "RSA uses large integers in the decode(num^d mod n) and encode(num^e mod n) functions. Taking the power of a large integer to another very large integer is a time consuming computation. This might take minutes, hours and beyond to encode or decode one character, which is not practical. Fast modular exponentiation allows us to complete the modulus for integer mod n much more efficiently. "
   ]
  },
  {
   "cell_type": "markdown",
   "metadata": {},
   "source": [
    "Run on personal computer with undervolted and overclocked CPU"
   ]
  },
  {
   "cell_type": "code",
   "execution_count": 150,
   "metadata": {},
   "outputs": [],
   "source": [
    "# Commented so the notebook runs quickly\n",
    "#b = 1223\n",
    "#n = 12345678\n",
    "#m = 34\n",
    "#print(NOT_FME(b, n, m))"
   ]
  },
  {
   "cell_type": "markdown",
   "metadata": {},
   "source": [
    "Not Fast Modular Exponentiation Run Time: result = 1, Finished in 39.4seconds"
   ]
  },
  {
   "cell_type": "code",
   "execution_count": 151,
   "metadata": {},
   "outputs": [
    {
     "name": "stdout",
     "output_type": "stream",
     "text": [
      "1\n"
     ]
    }
   ],
   "source": [
    "b = 1223\n",
    "n = 12345678\n",
    "m = 34\n",
    "print(FME(b, n, m))"
   ]
  },
  {
   "cell_type": "markdown",
   "metadata": {},
   "source": [
    "Fast Modular Exponentiation Run Time: result = 1, Finished in 0.0s"
   ]
  },
  {
   "cell_type": "code",
   "execution_count": 152,
   "metadata": {},
   "outputs": [],
   "source": [
    "def Euclidean_Alg(a, b):\n",
    "    \"\"\"\n",
    "    Calculate the Greatest Common Divisor of a and b\n",
    "    \"\"\"\n",
    "    \n",
    "    # if a is less than b, assign a to mEA and b to nEA\n",
    "    if a < b:\n",
    "        mEA = a\n",
    "        nEA = b\n",
    "    # else assign b to mEA and a to nEA\n",
    "    else:\n",
    "        mEA = b\n",
    "        nEA = a \n",
    "    kEA = 0\n",
    "    \n",
    "    # modulus and switch positions to quickly find greatest common divisor of function inputs a and b\n",
    "    while nEA > 0:\n",
    "        kEA= mEA % nEA\n",
    "        mEA = nEA\n",
    "        nEA = kEA\n",
    "        \n",
    "        \n",
    "    return mEA"
   ]
  },
  {
   "cell_type": "code",
   "execution_count": 153,
   "metadata": {},
   "outputs": [],
   "source": [
    "def Extended_Euclidean_Alg(a, b):\n",
    "    \"\"\"\n",
    "    Calculate the Greatest Common Divisor of a and b, and Bézout's identity\n",
    "    \"\"\"\n",
    "        \n",
    "    if a < b:\n",
    "        mEE = a\n",
    "        nEE = b  \n",
    "    else:\n",
    "        mEE = b\n",
    "        nEE = a   \n",
    "\n",
    "    s1, t1 = 1, 0\n",
    "    s2, t2 = 0, 1\n",
    "    s1h, s2h, t1h, t2h = 0, 0, 0, 0\n",
    "    kEE = 0\n",
    "    qEE = 0\n",
    "    \n",
    "    while nEE > 0:\n",
    "        kEE = mEE % nEE\n",
    "        #division truncated\n",
    "        qEE = mEE // nEE\n",
    "        mEE = nEE\n",
    "        nEE = kEE\n",
    "        s1h, t1h = s2, t2\n",
    "        s2h, t2h = s1 - qEE * s2, t1 - qEE * t2h\n",
    "        s1, t1 = s1h, t1h\n",
    "        s2, t2 = s2h, t2h\n",
    "\n",
    "    return mEE, s1, t1"
   ]
  },
  {
   "cell_type": "code",
   "execution_count": 154,
   "metadata": {},
   "outputs": [],
   "source": [
    "def Generate_Primes(num):\n",
    "    \"\"\"\n",
    "    Brute force generation of primes\n",
    "    all primes will be under num\n",
    "    \"\"\"\n",
    "\n",
    "    primes_list = []\n",
    "    count = 1\n",
    "    \n",
    "    # iterates through num running Euclidean_Alg on each combination of num and num2 \n",
    "    for num in range(1,num):\n",
    "        for num2 in range(1,num):\n",
    "            \n",
    "            # checking if the greatest common divisor is one, then iterate count if True\n",
    "            if Euclidean_Alg(num, num2) == 1:\n",
    "                count += 1\n",
    "\n",
    "        # if all number combinations greatest common divisor is one then add number to list\n",
    "        if count == num:\n",
    "            primes_list.append(num)\n",
    "        count = 1\n",
    "\n",
    "    return primes_list"
   ]
  },
  {
   "cell_type": "code",
   "execution_count": 155,
   "metadata": {},
   "outputs": [],
   "source": [
    "def Generate_Primes_Eratosthenes(num):\n",
    "    \"\"\"\n",
    "    generates primes faster than brute force with Eratosthenes algorithm\n",
    "    all primes will be under num\n",
    "    \"\"\"\n",
    "    \n",
    "    primes = []\n",
    "    prime = [True for i in range(num+1)]\n",
    "    # boolean array\n",
    "    p = 2\n",
    "    while (p * p <= num):\n",
    "  \n",
    "        # If prime[p] is not\n",
    "        # changed, then it is a prime\n",
    "        if (prime[p] == True):\n",
    "  \n",
    "            # Updating all multiples of p\n",
    "            for i in range(p * p, num+1, p):\n",
    "                prime[i] = False\n",
    "        p += 1\n",
    "  \n",
    "    # Print all prime numbers\n",
    "    for p in range(2, num+1):\n",
    "        if prime[p]:\n",
    "            #print(p)\n",
    "            primes.append(p)\n",
    "    return primes"
   ]
  },
  {
   "cell_type": "code",
   "execution_count": 156,
   "metadata": {},
   "outputs": [],
   "source": [
    "# random library allows 'random' integers to be called with a specified range\n",
    "import random\n",
    "def Pick_Primes():\n",
    "    \"\"\"\n",
    "    p must not equal q and when multiplied together must be greater than 255 to include up to Extended ASCII characters\n",
    "    \"\"\"\n",
    "    \n",
    "    # first used to establish function is passing random items in a list, before writing a generating primes function\n",
    "    # list of first 168 primes under 1,000\n",
    "    #primes = [2,3,5,7,11,13,17,19,23,29,31,37,41,43,47,53,59,61,67,71, 73, 79, 83, 89, 97, 101, 103, 107, 109, 113, 127, 131, 137, 139, 149, 151, 157, 163, 167, 173, 179, 181, 191, 193, 197, 199, 211, 223, 227, 229, 233, 239, 241, 251, 257, 263, 269, 271, 277, 281, 283, 293, 307, 311, 313, 317, 331, 337, 347, 349, 353, 359, 367, 373, 379, 383, 389, 397, 401, 409, 419, 421, 431, 433, 439, 443, 449, 457, 461, 463, 467, 479, 487, 491, 499, 503, 509, 521, 523, 541, 547, 557, 563, 569, 571, 577, 587, 593, 599, 601, 607, 613, 617, 619, 631, 641, 643, 647, 653, 659, 661, 673, 677, 683, 691, 701, 709, 719, 727, 733, 739, 743, 751, 757, 761, 769, 773, 787, 797, 809, 811, 821, 823, 827, 829, 839, 853, 857, 859, 863, 877, 881, 883, 887, 907, 911, 919, 929, 937, 941, 947, 953, 967, 971, 977, 983, 991, 997]\n",
    "\n",
    "\n",
    "    #call prime number generator \n",
    "    primes = Generate_Primes_Eratosthenes(10000000)\n",
    "    # calculate length of primes list to create upper bound to random number generation,\n",
    "    # so we do not index out of the bounds of primes list\n",
    "    prime_len = len(primes) \n",
    "    \n",
    "    # Does not take the first few primes to strengthen code\n",
    "    # range returns random integer within specified range (starting point, end point)\n",
    "    # Use the random number to index into list of primes, returning a random prime number\n",
    "    while True:\n",
    "        pI = random.randrange(500, prime_len) #range(min,max) to change range of random primes\n",
    "        qI = random.randrange(500, prime_len) #500) to change range of random primes\n",
    "        p = primes[pI]\n",
    "        q = primes[qI]\n",
    "        \n",
    "        # breaks when random combination meets given requirements\n",
    "        if p != q and (p*q) > 255:  \n",
    "            break\n",
    "    \n",
    "    return(p, q)"
   ]
  },
  {
   "attachments": {},
   "cell_type": "markdown",
   "metadata": {},
   "source": [
    "<hr />\n",
    "\n",
    "#### 2.2 Second Tool Set\n",
    "\n",
    "The functions below will generate the public and private key pairs. These will then be used to create a ciphertext using the public key and then decode the same using the private key.\n",
    "\n"
   ]
  },
  {
   "cell_type": "code",
   "execution_count": 157,
   "metadata": {},
   "outputs": [],
   "source": [
    "import random\n",
    "def Find_Public_Key_e(p, q):\n",
    "    \"\"\"\n",
    "    take 2 primes\n",
    "    \n",
    "    return 2 elements:\n",
    "    public key: n\n",
    "    public key: e\n",
    "\n",
    "    run a while loop to find e such that\n",
    "    e is relatively prime to (p - 1) (q - 1) but not p or q \n",
    "    \"\"\"\n",
    "    \n",
    "    n = p * q\n",
    "    # for testing relative prime\n",
    "    phi = (p-1)*(q-1)\n",
    "    \n",
    "    while True:\n",
    "        e = random.randrange(50,phi)\n",
    "        tempE = Euclidean_Alg(e, phi)\n",
    "        if tempE == 1 and tempE != p and tempE != q and tempE < phi:\n",
    "           break\n",
    "    \n",
    "    return(n, e)"
   ]
  },
  {
   "cell_type": "code",
   "execution_count": 158,
   "metadata": {},
   "outputs": [],
   "source": [
    "def Find_Private_Key_d(e, p, q):\n",
    "    \"\"\"\n",
    "    e = public key\n",
    "    p = prime number\n",
    "    q = prime number\n",
    "\n",
    "    returns decryption exponent d such that\n",
    "    d is the modular inverse of e. \n",
    "    \"\"\"\n",
    "    \n",
    "    phi = (p-1)*(q-1)\n",
    "    \n",
    "    # Bézout's Identity says s1 is modular inverse\n",
    "    m, s1, t1 = Extended_Euclidean_Alg(e, phi)\n",
    "    d = s1\n",
    "\n",
    "    while d < 0:\n",
    "        #keep adding mod phi to the inverse until a positive integer is reached\n",
    "        d = d % phi\n",
    "        \n",
    "    return d"
   ]
  },
  {
   "attachments": {},
   "cell_type": "markdown",
   "metadata": {},
   "source": [
    "<hr />\n",
    "\n",
    "### 2.3 Encode and Decode\n",
    "\n",
    "These functions will use the public and private keys calculated using Find_Public_Key_e and Find_Private_Key_d. The Encode function uses the public key to encode a message and generate the corresponding ciphertext. The Decode function Uses the private key to decode a ciphertext and recover the original message."
   ]
  },
  {
   "cell_type": "code",
   "execution_count": 159,
   "metadata": {},
   "outputs": [],
   "source": [
    "def Encode(n, e, message):\n",
    "    \"\"\"\n",
    "    n = public key\n",
    "    e = public key\n",
    "    message is a string of characters\n",
    "    function Convert_Text to get a list of numbers\n",
    "    \n",
    "    Encode each of those numbers using public keys n and e to\n",
    "    return the encoded cipher_text\n",
    "\n",
    "    encoded cipher = Num^e mod n\n",
    "    \"\"\"\n",
    "    cipher_text = []\n",
    "    cipher_textTemp = []\n",
    "    \n",
    "    cipher_int_list = Convert_Text(message)\n",
    "\n",
    "    for num in cipher_int_list:\n",
    "        cipher_textTemp.append(FME(num, e, n))\n",
    "        cipher_text = cipher_textTemp\n",
    "        \n",
    "        \n",
    "    return cipher_text"
   ]
  },
  {
   "cell_type": "code",
   "execution_count": 160,
   "metadata": {},
   "outputs": [],
   "source": [
    "def Decode(n, d, cipher_text):\n",
    "    \"\"\"\n",
    "    n = public key\n",
    "    d = private key\n",
    "    cipher_text will be a list of integers\n",
    "    \n",
    "    function Convert_Num converts the integers to a string of characters, \n",
    "    this recovers the original message\n",
    "\n",
    "    return a decoded readable message\n",
    "\n",
    "    Decoded cipher = Num^e mod n\n",
    "    \"\"\"\n",
    "    message = ''\n",
    "    listTemp = []\n",
    "    \n",
    "    for num in cipher_text:\n",
    "        listTemp.append(FME(num, d, n))\n",
    "    \n",
    "    message = Convert_Num(listTemp)\n",
    "    \n",
    "    return message"
   ]
  },
  {
   "attachments": {},
   "cell_type": "markdown",
   "metadata": {},
   "source": [
    "<hr />\n",
    "\n",
    "### 2.4 Code Break Tool Set"
   ]
  },
  {
   "attachments": {},
   "cell_type": "markdown",
   "metadata": {},
   "source": [
    "Generating factors for public key e that are primes and have a greatest common divisor of one. A private key d is generated from the guessing primes, giving decoding privileges to the unintended user who broke the key.\n",
    "\n",
    "The break functions take in public keys n and e, then use the Factorize function to find all factor pairs of n. Next function Private_Key_d returns our hidden private key for the pair of primes which satisfies phi = (p-1)(q-1) and public key e are relatively prime. Relatively prime is checked with the function Euclidean_Alg, which returns the greatest common divisor of two numbers, if the answer is one, the numbers are relatively prime. Finally decode cipher with private key d and print decoded text.\n",
    "\n",
    "RSA security is dependent on length of primes, picking those primes at random, and avoiding primes that breaking algorithms check more often, such as two primes that are close together but still large. RSA is difficult to break because finding the prime factors of n is an extremely intensive process for a very large number with thousands of digits.\n",
    "\n",
    "The random python function is a weakness in this implementation. If others are able to find at which point in the sequence of \"random\" numbers are occurring, one might be able to guess which other \"random\" number is likely to come next. Another weakness in this implementation of encryption is that there are no tactics to hide what each character value is. A code breaker without the ability to crack the private key can still run a frequency analysis or look closely at repeated characters to break these ciphertext. My ability to generate primes with Sieve of Eratosthenes algorithm is much stronger than my ability to crack code with the help of Pollard's rho algorithm. Generating a prime of length 4096 might take a few hours or days with Sieve of Eratosthenes algorithm, where breaking code with Pollard's rho algorithm is considered beyond the computation of a few hundred years."
   ]
  },
  {
   "cell_type": "code",
   "execution_count": 161,
   "metadata": {},
   "outputs": [],
   "source": [
    "def Factorize(n):\n",
    "    #n is my public key n\n",
    "    #n is a integer, return all factors of n\n",
    "    factors = []\n",
    "    \n",
    "    # for all integers under between 2 and n-1,\n",
    "    # if n modulus each integer equals to zero,\n",
    "    # then add that integer to list of factors\n",
    "    for i in range(2, n-1):\n",
    "        if n % i == 0:\n",
    "            factors.append(i)\n",
    "        i +=1\n",
    "        \n",
    "    return factors"
   ]
  },
  {
   "cell_type": "code",
   "execution_count": 162,
   "metadata": {},
   "outputs": [],
   "source": [
    "import random\n",
    "\"\"\"\n",
    "factorize much faster than brute force\n",
    "\"\"\"\n",
    "def Pollard_Rho(N):\n",
    "    a = 1\n",
    "    b = 2 \n",
    "    \n",
    "    while ( b != a ):\n",
    "        a = random.randrange(10, N)\n",
    "        #print(\"a\", a)\n",
    "        b = random.randrange(10,random.randrange(10, N))\n",
    "        #print(\"b\", b)\n",
    "        p = Euclidean_Alg( abs(b - a) , N)\n",
    "        if (p > 1):\n",
    "            #print(\"Found factors p and q:\",)\n",
    "            q = N // p\n",
    "            return p, q\n",
    "\n",
    "    return \"Failed\""
   ]
  },
  {
   "cell_type": "code",
   "execution_count": 163,
   "metadata": {},
   "outputs": [],
   "source": [
    "def Break_Code(n, e, cipher_text):\n",
    "    \"\"\"\n",
    "    break code using\n",
    "    using brute force factorization\n",
    "    \"\"\"\n",
    "    factors = Factorize(n)\n",
    "    #print(factors)\n",
    "    possible_factors = []\n",
    "    \n",
    "    for num1 in factors:\n",
    "        for num2 in factors:\n",
    "            if Euclidean_Alg((num1-1) * (num2-1), e) == 1:\n",
    "                possible_factors.append((num1, num2))\n",
    "    \n",
    "    \n",
    "    for (num1, num2) in possible_factors:\n",
    "        if num1 != num2:\n",
    "            print(\"p:\", num1, \"q:\", num2)\n",
    "            dtest = Find_Private_Key_d(e, num1, num2) # e, p, q\n",
    "            print(\"d key attempt:\", dtest)\n",
    "            option = Decode(n, dtest, cipher_text)\n",
    "            return option  "
   ]
  },
  {
   "cell_type": "code",
   "execution_count": 164,
   "metadata": {},
   "outputs": [],
   "source": [
    "def Break_Code_Pollard(n, e, cipher_text):\n",
    "    \"\"\"\n",
    "    break code using\n",
    "    using Pollard Rho factorization\n",
    "    \"\"\"\n",
    "    factors = Pollard_Rho(n)\n",
    "    #print(factors)\n",
    "    possible_factors = []\n",
    "    \n",
    "    for num1 in factors:\n",
    "        for num2 in factors:\n",
    "            if Euclidean_Alg((num1-1) * (num2-1), e) == 1:\n",
    "                possible_factors.append((num1, num2))\n",
    "    \n",
    "    \n",
    "    for (num1, num2) in possible_factors:\n",
    "        if num1 != num2:\n",
    "            print(\"p:\", num1, \"q:\", num2)\n",
    "            dtest = Find_Private_Key_d(e, num1, num2) # e, p, q\n",
    "            print(\"d key attempt:\", dtest)\n",
    "            option = Decode(n, dtest, cipher_text)\n",
    "            return option  "
   ]
  },
  {
   "attachments": {},
   "cell_type": "markdown",
   "metadata": {
    "tags": []
   },
   "source": [
    "<hr />\n",
    "\n",
    "### 3. Demonstrations\n",
    "\n",
    "### 3.1  Demo of Encoding and Decoding Messages"
   ]
  },
  {
   "attachments": {},
   "cell_type": "markdown",
   "metadata": {},
   "source": [
    "Example 1:"
   ]
  },
  {
   "attachments": {},
   "cell_type": "markdown",
   "metadata": {},
   "source": [
    "Decode Message:"
   ]
  },
  {
   "cell_type": "code",
   "execution_count": 165,
   "metadata": {},
   "outputs": [
    {
     "data": {
      "text/plain": [
       "'Do you have any pets?'"
      ]
     },
     "execution_count": 165,
     "metadata": {},
     "output_type": "execute_result"
    }
   ],
   "source": [
    "Decode(3503, 611, [801, 3376, 2543, 2405, 3376, 1778, 2543, 2473, 4, 3198, 2054, 2543, 4, 828, 2405, 2543, 3389, 2054, 302, 1257, 2574])"
   ]
  },
  {
   "attachments": {},
   "cell_type": "markdown",
   "metadata": {},
   "source": [
    "Encode Reply:"
   ]
  },
  {
   "cell_type": "code",
   "execution_count": 166,
   "metadata": {},
   "outputs": [
    {
     "name": "stdout",
     "output_type": "stream",
     "text": [
      "[1969, 3376, 302, 2543, 4, 302, 2543, 302, 2473, 3245, 1257, 2543, 302, 3245, 2403, 2054, 604, 2543, 2650, 2405, 2543, 3389, 4, 3391, 2054, 828, 302, 1257, 2543, 1778, 1257, 2054, 237, 2543, 302, 3376, 2543, 2473, 4, 3198, 2054, 2543, 237, 4, 2878, 2473, 1257, 2473, 1778, 828, 237, 1257, 604, 2543, 3272, 2473, 2054, 2405, 2543, 1742, 2054, 3391, 2054, 2543, 3198, 2054, 3391, 2405, 2543, 2878, 1778, 302, 2054, 2543, 4, 828, 237, 2543, 1257, 1742, 2054, 2054, 302, 604]\n"
     ]
    }
   ],
   "source": [
    "print(Encode(3503, 11, 'Not at this time. My parents used to have dachshunds. They were very cute and sweet.'))"
   ]
  },
  {
   "cell_type": "code",
   "execution_count": 167,
   "metadata": {},
   "outputs": [
    {
     "data": {
      "text/plain": [
       "'Not at this time. My parents used to have dachshunds. They were very cute and sweet.'"
      ]
     },
     "execution_count": 167,
     "metadata": {},
     "output_type": "execute_result"
    }
   ],
   "source": [
    "Decode(3503, 611, [1969, 3376, 302, 2543, 4, 302, 2543, 302, 2473, 3245, 1257, 2543, 302, 3245, 2403, 2054, 604, 2543, 2650, 2405, 2543, 3389, 4, 3391, 2054, 828, 302, 1257, 2543, 1778, 1257, 2054, 237, 2543, 302, 3376, 2543, 2473, 4, 3198, 2054, 2543, 237, 4, 2878, 2473, 1257, 2473, 1778, 828, 237, 1257, 604, 2543, 3272, 2473, 2054, 2405, 2543, 1742, 2054, 3391, 2054, 2543, 3198, 2054, 3391, 2405, 2543, 2878, 1778, 302, 2054, 2543, 4, 828, 237, 2543, 1257, 1742, 2054, 2054, 302, 604])"
   ]
  },
  {
   "attachments": {},
   "cell_type": "markdown",
   "metadata": {},
   "source": [
    "Example 2:"
   ]
  },
  {
   "attachments": {},
   "cell_type": "markdown",
   "metadata": {},
   "source": [
    "Decode Message:"
   ]
  },
  {
   "cell_type": "code",
   "execution_count": 168,
   "metadata": {},
   "outputs": [
    {
     "data": {
      "text/plain": [
       "'What is your favorite animated movie?'"
      ]
     },
     "execution_count": 168,
     "metadata": {},
     "output_type": "execute_result"
    }
   ],
   "source": [
    "Decode(989, 127, [646, 190, 527, 116, 978, 836, 115, 978, 680, 283, 418, 114, 978, 360, 527, 32, 283, 114, 836, 116, 58, 978, 527, 669, 836, 539, 527, 116, 58, 616, 978, 539, 283, 32, 836, 58, 493])"
   ]
  },
  {
   "attachments": {},
   "cell_type": "markdown",
   "metadata": {},
   "source": [
    "Encode Reply:"
   ]
  },
  {
   "cell_type": "code",
   "execution_count": 169,
   "metadata": {},
   "outputs": [
    {
     "name": "stdout",
     "output_type": "stream",
     "text": [
      "[975, 283, 936, 624, 555, 115, 978, 593, 283, 32, 836, 669, 17, 978, 755, 527, 115, 116, 624, 58, 978, 836, 115, 978, 527, 978, 657, 58, 527, 418, 116, 836, 360, 418, 624, 978, 539, 283, 32, 836, 58, 978, 616, 836, 114, 58, 572, 116, 58, 616, 978, 657, 680, 978, 975, 527, 680, 527, 283, 978, 593, 836, 680, 527, 595, 527, 580, 836]\n"
     ]
    }
   ],
   "source": [
    "print(Encode(989, 211, \"Howl's Moving Castle is a beautiful movie directed by Hayao Miyazaki\"))"
   ]
  },
  {
   "cell_type": "code",
   "execution_count": 170,
   "metadata": {},
   "outputs": [
    {
     "data": {
      "text/plain": [
       "\"Howl's Moving Castle is a beautiful movie directed by Hayao Miyazaki\""
      ]
     },
     "execution_count": 170,
     "metadata": {},
     "output_type": "execute_result"
    }
   ],
   "source": [
    "Decode(989, 127, [975, 283, 936, 624, 555, 115, 978, 593, 283, 32, 836, 669, 17, 978, 755, 527, 115, 116, 624, 58, 978, 836, 115, 978, 527, 978, 657, 58, 527, 418, 116, 836, 360, 418, 624, 978, 539, 283, 32, 836, 58, 978, 616, 836, 114, 58, 572, 116, 58, 616, 978, 657, 680, 978, 975, 527, 680, 527, 283, 978, 593, 836, 680, 527, 595, 527, 580, 836])"
   ]
  },
  {
   "attachments": {},
   "cell_type": "markdown",
   "metadata": {},
   "source": [
    "Encode Reply:"
   ]
  },
  {
   "cell_type": "code",
   "execution_count": 171,
   "metadata": {},
   "outputs": [
    {
     "name": "stdout",
     "output_type": "stream",
     "text": [
      "[557, 190, 58, 978, 646, 836, 669, 616, 978, 813, 836, 115, 58, 115]\n"
     ]
    }
   ],
   "source": [
    "print(Encode(989, 211, \"The Wind Rises\"))"
   ]
  },
  {
   "cell_type": "code",
   "execution_count": 172,
   "metadata": {},
   "outputs": [
    {
     "data": {
      "text/plain": [
       "'The Wind Rises'"
      ]
     },
     "execution_count": 172,
     "metadata": {},
     "output_type": "execute_result"
    }
   ],
   "source": [
    "Decode(989, 127, [557, 190, 58, 978, 646, 836, 669, 616, 978, 813, 836, 115, 58, 115])"
   ]
  },
  {
   "attachments": {},
   "cell_type": "markdown",
   "metadata": {},
   "source": [
    "Example 3:"
   ]
  },
  {
   "attachments": {},
   "cell_type": "markdown",
   "metadata": {},
   "source": [
    "Decode Message:"
   ]
  },
  {
   "cell_type": "code",
   "execution_count": 173,
   "metadata": {},
   "outputs": [
    {
     "data": {
      "text/plain": [
       "'What song best describes the feeling you get when learning Computer Science?'"
      ]
     },
     "execution_count": 173,
     "metadata": {},
     "output_type": "execute_result"
    }
   ],
   "source": [
    "Decode(5251, 3403, [2128, 1150, 4250, 1349, 1262, 3336, 2371, 2497, 519, 1262, 1263, 1105, 3336, 1349, 1262, 2310, 1105, 3336, 4115, 762, 2405, 1263, 1105, 3336, 1262, 1349, 1150, 1105, 1262, 506, 1105, 1105, 4723, 2405, 2497, 519, 1262, 1974, 2371, 58, 1262, 519, 1105, 1349, 1262, 4839, 1150, 1105, 2497, 1262, 4723, 1105, 4250, 762, 2497, 2405, 2497, 519, 1262, 1456, 2371, 3283, 2911, 58, 1349, 1105, 762, 1262, 4679, 4115, 2405, 1105, 2497, 4115, 1105, 3250])"
   ]
  },
  {
   "attachments": {},
   "cell_type": "markdown",
   "metadata": {},
   "source": [
    "Encode Reply:"
   ]
  },
  {
   "cell_type": "code",
   "execution_count": 174,
   "metadata": {},
   "outputs": [
    {
     "name": "stdout",
     "output_type": "stream",
     "text": [
      "[2947, 4723, 1262, 2653, 2371, 2310, 1105, 762, 1262, 1263, 1974, 1262, 3942, 4250, 3336, 2405, 4115, 4250, 4723, 4723, 1974, 1262, 4679, 4250, 1349, 58, 762, 2310, 4250, 1974, 1262, 1962, 2405, 519, 1150, 1349]\n"
     ]
    }
   ],
   "source": [
    "print(Encode(5251, 3, 'El Poder by Basically Saturday Night'))"
   ]
  },
  {
   "cell_type": "code",
   "execution_count": 175,
   "metadata": {},
   "outputs": [
    {
     "data": {
      "text/plain": [
       "'El Poder by Basically Saturday Night'"
      ]
     },
     "execution_count": 175,
     "metadata": {},
     "output_type": "execute_result"
    }
   ],
   "source": [
    "Decode(5251, 3403, [2947, 4723, 1262, 2653, 2371, 2310, 1105, 762, 1262, 1263, 1974, 1262, 3942, 4250, 3336, 2405, 4115, 4250, 4723, 4723, 1974, 1262, 4679, 4250, 1349, 58, 762, 2310, 4250, 1974, 1262, 1962, 2405, 519, 1150, 1349])"
   ]
  },
  {
   "attachments": {},
   "cell_type": "markdown",
   "metadata": {},
   "source": [
    "<hr />\n",
    "\n",
    "### 3.2 Demo of Breaking Messages\n",
    "Generate messages with different size public keys n and e on laptop to break on desktop."
   ]
  },
  {
   "attachments": {},
   "cell_type": "markdown",
   "metadata": {},
   "source": [
    "Example 1:\n",
    "\n",
    "9 digit public key n"
   ]
  },
  {
   "cell_type": "code",
   "execution_count": 187,
   "metadata": {},
   "outputs": [
    {
     "name": "stdout",
     "output_type": "stream",
     "text": [
      "p: 151 q: 1062601\n",
      "d key attempt: 49043077\n"
     ]
    },
    {
     "data": {
      "text/plain": [
       "'Maybe Another Time'"
      ]
     },
     "execution_count": 187,
     "metadata": {},
     "output_type": "execute_result"
    }
   ],
   "source": [
    "#Trying to break message generated on laptop (n, e, cipher)\n",
    "Break_Code_Pollard(160452751, 13,  [132998342, 14884534, 63466598, 150609987, 95456239, 55615899, 91994305, 15219676, 134927155, 21763515, 118437937, 95456239, 93552637, 55615899, 1441496, 154421283, 120914107, 95456239])"
   ]
  },
  {
   "cell_type": "code",
   "execution_count": 178,
   "metadata": {},
   "outputs": [
    {
     "name": "stdout",
     "output_type": "stream",
     "text": [
      "[75182970, 134927155, 7867628, 7867628, 7867628, 55615899, 27255531, 93552637, 63466598, 137785010, 21763515, 154421283, 27255531]\n"
     ]
    }
   ],
   "source": [
    "#Encoding reply message at desktop\n",
    "print(Encode(160452751, 13, \"So... cryptic\"))"
   ]
  },
  {
   "cell_type": "code",
   "execution_count": 179,
   "metadata": {},
   "outputs": [
    {
     "data": {
      "text/plain": [
       "'So... cryptic'"
      ]
     },
     "execution_count": 179,
     "metadata": {},
     "output_type": "execute_result"
    }
   ],
   "source": [
    "#Decoding reply message at laptop\n",
    "Decode(160452751, 49043077,  [75182970, 134927155, 7867628, 7867628, 7867628, 55615899, 27255531, 93552637, 63466598, 137785010, 21763515, 154421283, 27255531])"
   ]
  },
  {
   "attachments": {},
   "cell_type": "markdown",
   "metadata": {},
   "source": [
    "Example 2:\n",
    "\n",
    "10 digit public key n"
   ]
  },
  {
   "cell_type": "code",
   "execution_count": 180,
   "metadata": {},
   "outputs": [
    {
     "name": "stdout",
     "output_type": "stream",
     "text": [
      "p: 84503 q: 72077\n",
      "d key attempt: 4060377435\n"
     ]
    },
    {
     "data": {
      "text/plain": [
       "'Time to climb?'"
      ]
     },
     "execution_count": 180,
     "metadata": {},
     "output_type": "execute_result"
    }
   ],
   "source": [
    "#Trying to break message generated on laptop (n, e, cipher)\n",
    "#Key too big for slow factorization and key breaking!\n",
    "Break_Code_Pollard(6090722731, 3, [592704, 1157625, 1295029, 1030301, 32768, 1560896, 1367631, 32768, 970299, 1259712, 1157625, 1295029, 941192, 250047])"
   ]
  },
  {
   "cell_type": "code",
   "execution_count": 181,
   "metadata": {},
   "outputs": [
    {
     "name": "stdout",
     "output_type": "stream",
     "text": [
      "[704969, 1030301, 1520875, 85184, 32768, 1157625, 1560896, 59319, 1520875, 32768, 912673, 32768, 1061208, 1601613, 1331000, 32768, 1685159, 912673, 1771561, 32768, 1560896, 1367631, 32768, 1520875, 1367631, 1259712, 1643032, 1030301, 32768, 1404928, 1601613, 1815848, 1815848, 1259712, 1030301, 1520875]\n"
     ]
    }
   ],
   "source": [
    "#Encoding reply message at desktop\n",
    "print(Encode(6090722731, 3,\"Yes, it's a fun way to solve puzzles\"))"
   ]
  },
  {
   "cell_type": "code",
   "execution_count": 182,
   "metadata": {},
   "outputs": [
    {
     "data": {
      "text/plain": [
       "\"Yes, it's a fun way to solve puzzles\""
      ]
     },
     "execution_count": 182,
     "metadata": {},
     "output_type": "execute_result"
    }
   ],
   "source": [
    "#Decoding reply message at laptop\n",
    "Decode(6090722731, 4060377435, [704969, 1030301, 1520875, 85184, 32768, 1157625, 1560896, 59319, 1520875, 32768, 912673, 32768, 1061208, 1601613, 1331000, 32768, 1685159, 912673, 1771561, 32768, 1560896, 1367631, 32768, 1520875, 1367631, 1259712, 1643032, 1030301, 32768, 1404928, 1601613, 1815848, 1815848, 1259712, 1030301, 1520875])"
   ]
  },
  {
   "cell_type": "code",
   "execution_count": 183,
   "metadata": {},
   "outputs": [
    {
     "data": {
      "text/plain": [
       "'BREAKS while coding are essential!'"
      ]
     },
     "execution_count": 183,
     "metadata": {},
     "output_type": "execute_result"
    }
   ],
   "source": [
    "#Decoding reply message at Desktop\n",
    "Decode(6090722731, 4060377435, [287496, 551368, 328509, 274625, 421875, 571787, 32768, 1685159, 1124864, 1157625, 1259712, 1030301, 32768, 970299, 1367631, 1000000, 1157625, 1331000, 1092727, 32768, 912673, 1481544, 1030301, 32768, 1030301, 1520875, 1520875, 1030301, 1331000, 1560896, 1157625, 912673, 1259712, 35937])"
   ]
  },
  {
   "attachments": {},
   "cell_type": "markdown",
   "metadata": {},
   "source": [
    "Exploring factoring algorithms in how they effect breaking run time. The brute force algorithm is an exponential function behaving the same way each time. Pollard's rho incorporates some randomness so its run time varies."
   ]
  },
  {
   "cell_type": "code",
   "execution_count": 184,
   "metadata": {},
   "outputs": [],
   "source": [
    "import time\n",
    "start = time.process_time()\n",
    "#Your statements here\n",
    "n = 2041323913\n",
    "e = 270009331 \n",
    "cipher_text = [1190921435, 1264166319, 1541480213, 626896566, 1394656959, 1050035166, 1468451271, 2000560809, 1044655095, 1270558064, 1787928585, 1541480213, 1468451271, 1662091502, 1033414133, 671313795, 1270558064, 1896860269, 1108635445, 1468451271, 626896566, 1264166319, 1541480213, 1468451271, 1541480213, 1050035166, 1050035166, 1541480213, 1896860269, 650162957, 1270558064, 626896566, 1787928585]\n",
    "#print(Break_Code(n, e, cipher_text))\n",
    "stop = time.process_time()\n",
    "#print('Run Time: ', stop - start, 'seconds') \n",
    "\n",
    "#commented out so the notebook will run quicker"
   ]
  },
  {
   "cell_type": "markdown",
   "metadata": {},
   "source": [
    "p: 32713 q: 62401\n",
    "\n",
    "d key attempt: 236563771\n",
    "\n",
    "Breaks while coding are essential\n",
    "\n",
    "Run Time:  224.532295802 seconds"
   ]
  },
  {
   "cell_type": "code",
   "execution_count": 185,
   "metadata": {},
   "outputs": [
    {
     "name": "stdout",
     "output_type": "stream",
     "text": [
      "p: 32713 q: 62401\n",
      "d key attempt: 236563771\n",
      "Breaks while coding are essential\n",
      "Run Time:  0.033977700000008326 seconds\n"
     ]
    }
   ],
   "source": [
    "import time\n",
    "start = time.process_time()\n",
    "#Your statements here\n",
    "n = 2041323913\n",
    "e = 270009331 \n",
    "cipher_text = [1190921435, 1264166319, 1541480213, 626896566, 1394656959, 1050035166, 1468451271, 2000560809, 1044655095, 1270558064, 1787928585, 1541480213, 1468451271, 1662091502, 1033414133, 671313795, 1270558064, 1896860269, 1108635445, 1468451271, 626896566, 1264166319, 1541480213, 1468451271, 1541480213, 1050035166, 1050035166, 1541480213, 1896860269, 650162957, 1270558064, 626896566, 1787928585]\n",
    "print(Break_Code_Pollard(n, e, cipher_text))\n",
    "stop = time.process_time()\n",
    "print('Run Time: ', stop - start, 'seconds') \n"
   ]
  }
 ],
 "metadata": {
  "kernelspec": {
   "display_name": "Python 3 (ipykernel)",
   "language": "python",
   "name": "python3"
  },
  "language_info": {
   "codemirror_mode": {
    "name": "ipython",
    "version": 3
   },
   "file_extension": ".py",
   "mimetype": "text/x-python",
   "name": "python",
   "nbconvert_exporter": "python",
   "pygments_lexer": "ipython3",
   "version": "3.10.6"
  }
 },
 "nbformat": 4,
 "nbformat_minor": 4
}
